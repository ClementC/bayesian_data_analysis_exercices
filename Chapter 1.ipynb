{
 "cells": [
  {
   "cell_type": "code",
   "execution_count": 63,
   "metadata": {
    "ExecuteTime": {
     "end_time": "2017-03-07T11:36:26.455661",
     "start_time": "2017-03-07T11:36:25.917603"
    },
    "collapsed": true,
    "run_control": {
     "frozen": false,
     "read_only": false
    }
   },
   "outputs": [],
   "source": [
    "from queue import Queue\n",
    "import numpy as np\n",
    "from concurrent.futures import ThreadPoolExecutor\n",
    "from threading import Thread\n",
    "import time\n",
    "import datetime\n",
    "import matplotlib.pyplot as plt\n",
    "\n",
    "%matplotlib inline"
   ]
  },
  {
   "cell_type": "markdown",
   "metadata": {},
   "source": [
    "# Exercice 1.9"
   ]
  },
  {
   "cell_type": "markdown",
   "metadata": {},
   "source": [
    "Patients arrive in 10 minutes intervals on average, starting at 9AM.  \n",
    "The office stops taking patients at 4PM.  \n",
    "There are three doctors.  \n",
    "Each doctor sees a patient in anywhere between 5 and 20 minutes."
   ]
  },
  {
   "cell_type": "code",
   "execution_count": 81,
   "metadata": {
    "ExecuteTime": {
     "end_time": "2017-03-07T11:41:28.131281",
     "start_time": "2017-03-07T11:41:28.098572"
    },
    "collapsed": true
   },
   "outputs": [],
   "source": [
    "patients = Queue()\n",
    "out = Queue()\n",
    "\n",
    "def patient():\n",
    "    first = time.time()\n",
    "    while time.time() - first < 7:\n",
    "        arrived = time.time()\n",
    "        patients.put({\"arrived\": arrived})\n",
    "        print(\"New patient arrived at %s\" %\\\n",
    "                  datetime.datetime.fromtimestamp(datetime.datetime(2017, 3, 7, 9, 0, 0).timestamp() +\\\n",
    "                                                  3600 * (arrived - first)).strftime(\"%H:%M:%S\"),\n",
    "              flush=True)\n",
    "        time.sleep(np.random.exponential(10 / 60))\n",
    "\n",
    "def doctor():\n",
    "    while True:\n",
    "        patient = patients.get()\n",
    "        patient[\"waited\"] = time.time() - patient[\"arrived\"]\n",
    "        handling = np.random.uniform(5 / 60, 20 / 60)\n",
    "        time.sleep(handling)\n",
    "        print(\"Saw 1 patient in %.1f minutes\" % (handling * 60), flush=True)\n",
    "        patient[\"out\"] = time.time()\n",
    "        out.put(patient)"
   ]
  },
  {
   "cell_type": "code",
   "execution_count": 82,
   "metadata": {
    "ExecuteTime": {
     "end_time": "2017-03-07T11:41:30.318871",
     "start_time": "2017-03-07T11:41:30.307022"
    },
    "collapsed": false
   },
   "outputs": [
    {
     "name": "stdout",
     "output_type": "stream",
     "text": [
      "New patient arrived at 09:00:00\n",
      "New patient arrived at 09:07:33\n",
      "Saw 1 patient in 17.4 minutesNew patient arrived at 09:17:50\n",
      "\n",
      "New patient arrived at 09:21:23\n",
      "New patient arrived at 09:30:25\n",
      "Saw 1 patient in 13.0 minutes\n",
      "Saw 1 patient in 12.0 minutes\n",
      "New patient arrived at 09:45:13\n",
      "New patient arrived at 09:50:29\n",
      "Saw 1 patient in 19.2 minutes\n",
      "Saw 1 patient in 10.0 minutes\n",
      "Saw 1 patient in 8.8 minutes\n",
      "Saw 1 patient in 10.8 minutes\n",
      "New patient arrived at 10:49:20\n",
      "New patient arrived at 10:52:50\n",
      "Saw 1 patient in 8.6 minutes\n",
      "New patient arrived at 11:05:21\n",
      "Saw 1 patient in 11.3 minutes\n",
      "Saw 1 patient in 8.0 minutes\n",
      "New patient arrived at 11:33:09\n",
      "Saw 1 patient in 9.3 minutes\n",
      "New patient arrived at 11:44:49\n",
      "New patient arrived at 11:45:22\n",
      "Saw 1 patient in 7.7 minutes\n",
      "New patient arrived at 11:53:26\n",
      "New patient arrived at 11:59:56\n",
      "Saw 1 patient in 12.9 minutes\n",
      "Saw 1 patient in 12.9 minutes\n",
      "New patient arrived at 12:24:45\n",
      "Saw 1 patient in 6.3 minutes\n",
      "New patient arrived at 12:30:48\n",
      "New patient arrived at 12:37:25\n",
      "New patient arrived at 12:37:38\n",
      "Saw 1 patient in 18.1 minutes\n",
      "New patient arrived at 12:54:28\n",
      "New patient arrived at 12:55:21\n",
      "Saw 1 patient in 14.4 minutes\n",
      "New patient arrived at 13:09:06\n",
      "Saw 1 patient in 13.6 minutes\n",
      "New patient arrived at 13:15:51\n",
      "New patient arrived at 13:21:01\n",
      "Saw 1 patient in 12.3 minutes\n",
      "New patient arrived at 13:35:50\n",
      "Saw 1 patient in 15.9 minutes\n",
      "Saw 1 patient in 16.7 minutes\n",
      "New patient arrived at 13:56:56\n",
      "New patient arrived at 14:04:58\n",
      "New patient arrived at 14:09:46\n",
      "Saw 1 patient in 14.4 minutes\n",
      "Saw 1 patient in 8.6 minutes\n",
      "New patient arrived at 14:23:04\n",
      "Saw 1 patient in 11.4 minutes\n",
      "New patient arrived at 14:38:29\n",
      "Saw 1 patient in 16.3 minutes\n",
      "New patient arrived at 14:53:41\n",
      "Saw 1 patient in 13.3 minutes\n",
      "New patient arrived at 15:01:51\n",
      "Saw 1 patient in 10.2 minutes\n",
      "New patient arrived at 15:19:03\n",
      "Saw 1 patient in 10.5 minutes\n",
      "New patient arrived at 15:27:12\n",
      "New patient arrived at 15:32:29\n",
      "Saw 1 patient in 10.4 minutes\n",
      "Saw 1 patient in 8.1 minutes\n",
      "Saw 1 patient in 14.2 minutes\n",
      "Saw 1 patient in 15.7 minutes\n",
      "Saw 1 patient in 13.5 minutes\n",
      "Saw 1 patient in 12.7 minutes\n",
      "Saw 1 patient in 11.6 minutes\n"
     ]
    }
   ],
   "source": [
    "Thread(target=patient).start()\n",
    "doctors = [Thread(target=doctor).start()] * 3\n",
    "\n",
    "while not patients.empty():\n",
    "    pass"
   ]
  },
  {
   "cell_type": "code",
   "execution_count": 83,
   "metadata": {
    "ExecuteTime": {
     "end_time": "2017-03-07T11:41:42.931742",
     "start_time": "2017-03-07T11:41:42.925267"
    },
    "collapsed": false
   },
   "outputs": [],
   "source": [
    "all_patients = []\n",
    "while not out.empty():\n",
    "    all_patients.append(out.get())"
   ]
  },
  {
   "cell_type": "code",
   "execution_count": 85,
   "metadata": {
    "ExecuteTime": {
     "end_time": "2017-03-07T11:41:48.837443",
     "start_time": "2017-03-07T11:41:48.829232"
    },
    "collapsed": false
   },
   "outputs": [
    {
     "name": "stdout",
     "output_type": "stream",
     "text": [
      "35 patients went to the office\n",
      "35 patients had to wait, for 31 minutes on average\n",
      "The office closed at 16:49:08\n"
     ]
    }
   ],
   "source": [
    "print(\"%d patients went to the office\" % len(all_patients))\n",
    "print(\"%d patients had to wait, for %d minutes on average\" %\\\n",
    "          (len([elem for elem in all_patients]), np.mean([60 * elem[\"waited\"] for elem in all_patients])))\n",
    "print(\"The office closed at %s\" %\\\n",
    "          datetime.datetime.fromtimestamp(datetime.datetime(2017, 3, 7, 9, 0, 0).timestamp() +\\\n",
    "                                          3600 * (max(all_patients, key=lambda x: x[\"out\"])[\"out\"] -\\\n",
    "                                                  min(all_patients, key=lambda x: x[\"arrived\"])[\"arrived\"]))\\\n",
    "              .strftime(\"%H:%M:%S\"))"
   ]
  },
  {
   "cell_type": "code",
   "execution_count": 86,
   "metadata": {
    "ExecuteTime": {
     "end_time": "2017-03-07T11:41:51.300028",
     "start_time": "2017-03-07T11:41:50.979376"
    },
    "collapsed": false
   },
   "outputs": [
    {
     "data": {
      "image/png": "[encoded data removed]",
      "text/plain": [
       "<matplotlib.figure.Figure at 0x7efc544ff400>"
      ]
     },
     "metadata": {},
     "output_type": "display_data"
    }
   ],
   "source": [
    "fig, ax = plt.subplots()\n",
    "ax.hist([60 * elem[\"waited\"] for elem in all_patients])\n",
    "ax.grid();"
   ]
  }
 ],
 "metadata": {
  "kernelspec": {
   "display_name": "Python 3",
   "language": "python",
   "name": "python3"
  },
  "language_info": {
   "codemirror_mode": {
    "name": "ipython",
    "version": 3
   },
   "file_extension": ".py",
   "mimetype": "text/x-python",
   "name": "python",
   "nbconvert_exporter": "python",
   "pygments_lexer": "ipython3",
   "version": "3.4.0"
  }
 },
 "nbformat": 4,
 "nbformat_minor": 2
}
